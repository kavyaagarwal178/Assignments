{
  "nbformat": 4,
  "nbformat_minor": 0,
  "metadata": {
    "colab": {
      "provenance": [],
      "authorship_tag": "ABX9TyP/BqdPPxg8EvgEe3i2ozoJ",
      "include_colab_link": true
    },
    "kernelspec": {
      "name": "python3",
      "display_name": "Python 3"
    },
    "language_info": {
      "name": "python"
    }
  },
  "cells": [
    {
      "cell_type": "markdown",
      "metadata": {
        "id": "view-in-github",
        "colab_type": "text"
      },
      "source": [
        "<a href=\"https://colab.research.google.com/github/kavyaagarwal178/assignment_basic_python/blob/main/a1.ipynb\" target=\"_parent\"><img src=\"https://colab.research.google.com/assets/colab-badge.svg\" alt=\"Open In Colab\"/></a>"
      ]
    },
    {
      "cell_type": "markdown",
      "source": [
        "# **ASSIGNMENT 1**\n",
        "\n",
        "\n"
      ],
      "metadata": {
        "id": "KhTs2mD2_g3A"
      }
    },
    {
      "cell_type": "markdown",
      "source": [
        "**Question 1 : L is a list defined as L= [11, 12, 13, 14].**\n",
        "\n",
        "**(i) WAP to add 50 and 60 to L.**\n",
        "\n",
        "**(ii)WAP to remove 11 and 13from L.**\n",
        "\n",
        "**(iii) WAP to sort L in ascending order.**\n",
        "\n",
        "**(iv) WAP to sort L in descending order.**\n",
        "\n",
        "**(v) WAP to search for 13 in L.**\n",
        "\n",
        "**(vi) WAP to count the number of elements present in L.**\n",
        "\n",
        "**(vii) WAP to sum all the elements in L.**\n",
        "\n",
        "**(viii) WAP to sum all ODD numbers in L.**\n",
        "\n",
        "**(ix) WAP to sum all EVEN numbers in L.**\n",
        "\n",
        "**(x) WAP to sum all PRIME numbers in L.**\n",
        "\n",
        "**(xi) WAP to clear all the elements in L.**\n",
        "\n",
        "**(xii) WAP to delete L.**"
      ],
      "metadata": {
        "id": "8cUJk3MkCuCb"
      }
    },
    {
      "cell_type": "code",
      "execution_count": null,
      "metadata": {
        "id": "tDD1xJzKmBDU",
        "outputId": "ef5f3abe-2252-4217-9328-4cf46b759cf8",
        "colab": {
          "base_uri": "https://localhost:8080/"
        }
      },
      "outputs": [
        {
          "output_type": "stream",
          "name": "stdout",
          "text": [
            "original list is: [11, 12, 13, 14]\n",
            "List after adding two more elements: [11, 12, 13, 14, 50, 60]\n",
            "List after removing the elements: [12, 14, 50, 60]\n",
            "List after sorting the elements in ascending order: [12, 14, 50, 60]\n",
            "List after sorting the elements in descending order: [60, 50, 14, 12]\n",
            "element not found\n",
            "size of L is: 4\n",
            "sum of all elements is: 136\n",
            "the sum of even num is: 136\n",
            "the sum of odd num is: 0\n",
            "sumo of prime number is: 0\n",
            "List after clearing all the elements: []\n"
          ]
        }
      ],
      "source": [
        "# List \n",
        "L = [11,12,13,14]\n",
        "print(\"original list is:\",L)\n",
        "# Add 50 and 60 to the list\n",
        "L.append(50)\n",
        "L.append(60)\n",
        "print(\"List after adding two more elements:\",L)\n",
        "# Remove 11 and 13 from the list \n",
        "L.remove(11)\n",
        "L.remove(13)\n",
        "print(\"List after removing the elements:\",L)\n",
        "# Sort the elements in ascending order\n",
        "L.sort()\n",
        "print(\"List after sorting the elements in ascending order:\",L)\n",
        "# Sort the elements in descending order\n",
        "L.sort(reverse=True)\n",
        "print(\"List after sorting the elements in descending order:\",L)\n",
        "# Find the element in a list\n",
        "if 13 in L :\n",
        "  print(\"element found\")\n",
        "else :\n",
        "  print(\"element not found\")\n",
        "# Count the number of elements in a list\n",
        "size= len(L)\n",
        "print(\"size of L is:\",size)\n",
        "# Find the sum of all the elements present in a list\n",
        "s=0\n",
        "for i in range(size):\n",
        "  s=s+L[i]\n",
        "print(\"sum of all elements is:\",s)\n",
        "# Find the sum of odd and even numbers in a list \n",
        "es = 0\n",
        "os = 0 \n",
        "for j in range(size):\n",
        "  if L[j] %2 ==0 :\n",
        "    es= es + L[j]\n",
        "  else :\n",
        "    os= os + L[j]\n",
        "print(\"the sum of even num is:\",es)\n",
        "print(\"the sum of odd num is:\",os)\n",
        "# WAP to sum all the prime numbers in a list\n",
        "sum = 0\n",
        "for i in L :\n",
        "  for val in range(2,i):\n",
        "    if int(i % val) == 0:\n",
        "      val = i\n",
        "      break;\n",
        "    if val is not i:\n",
        "      sum = sum +i\n",
        "print(\"sumo of prime number is:\",sum)\n",
        "# WAP to clear all the elements in L\n",
        "L.clear()\n",
        "print(\"List after clearing all the elements:\",L)\n",
        "\n",
        "\n",
        "\n",
        "\n",
        "\n",
        "\n"
      ]
    },
    {
      "cell_type": "markdown",
      "source": [
        "**Question 2 : D is a dictionary defined as D= {1:5.6, 2:7.8, 3:6.6, 4:8.7, 5:7.7}.**\n",
        "\n",
        "**(i) WAP to add new entry in D; key=8 and value is 8.8**\n",
        "\n",
        "**(ii) WAP to remove key=2.**\n",
        "\n",
        "**(iii) WAP to check weather 6 key is present in D.**\n",
        "\n",
        "**(iv) WAP to count the number of elements present in D.**\n",
        "\n",
        "**(v) WAP to add all the values present D.**\n",
        "\n",
        "**(vi) WAP to update the value of 3 to 7.1.**\n",
        "\n",
        "**(vii) WAP to clear the dictionary.**"
      ],
      "metadata": {
        "id": "WSWj4kmQCwOu"
      }
    },
    {
      "cell_type": "code",
      "source": [
        "#dictionary\n",
        "D= {1:5.6,2:7.8,3:6.6,4:8.7,5:7.7}\n",
        "print(\"The dictionary is:\",D)\n",
        "#WAP to add new entry in D; key=8 and value is 8.8\n",
        "D[8]=8.8\n",
        "print(\"Dictionary after updating the dictionary:\",D)\n",
        "#WAP to remove key=2\n",
        "del D[2]\n",
        "print(\"Dictionary after deleting the key:\",D)\n",
        "#WAP to check weather 6 key is present in D\n",
        "if 6 in D.keys():\n",
        "  print(\"Yes it is present\")\n",
        "else:\n",
        "  print(\"No it is not present\")\n",
        "#WAP to count the number of elements present in D\n",
        "print(len(D))\n",
        "#WAP to update the value of 3 to 7.1.\n",
        "D.update({3:7.1})\n",
        "print(\"Dictionary after updation:\",D)\n",
        "# WAP to clear the dictionary.\n",
        "D.clear()\n",
        "print (\"Clearning the dictionary:\",D)\n",
        "\n",
        "\n",
        "\n",
        "\n"
      ],
      "metadata": {
        "colab": {
          "base_uri": "https://localhost:8080/"
        },
        "id": "m695CvjJ72yP",
        "outputId": "88fee76a-c987-48f6-9a56-6c3b81b2597a"
      },
      "execution_count": null,
      "outputs": [
        {
          "output_type": "stream",
          "name": "stdout",
          "text": [
            "The dictionary is: {1: 5.6, 2: 7.8, 3: 6.6, 4: 8.7, 5: 7.7}\n",
            "Dictionary after updating the dictionary: {1: 5.6, 2: 7.8, 3: 6.6, 4: 8.7, 5: 7.7, 8: 8.8}\n",
            "Dictionary after deleting the key: {1: 5.6, 3: 6.6, 4: 8.7, 5: 7.7, 8: 8.8}\n",
            "No it is not present\n",
            "5\n",
            "Dictionary after updation: {1: 5.6, 3: 7.1, 4: 8.7, 5: 7.7, 8: 8.8}\n",
            "Clearning the dictionary: {}\n"
          ]
        }
      ]
    },
    {
      "cell_type": "markdown",
      "source": [
        "**Question 3 :  S1 is a set defined as S1= [10, 20, 30, 40, 50, 60].\n",
        "S2 is a set defined as S2= [40, 50, 60, 70, 80, 90].**\n",
        "\n",
        "**(i) WAP to add 55 and 66 in Set S1.**\n",
        "\n",
        "**(ii) WAP to remove 10 and 30 from Set S1.**\n",
        "\n",
        "**(iii) WAP to check whether 40 is present in S1.**\n",
        "\n",
        "**(iv) WAP to find the union between S1 and S2.**\n",
        "\n",
        "**(v) WAP to find the intersection between S1 and S2.**\n",
        "\n",
        "**(vi) WAP to find the S1 - S2.**"
      ],
      "metadata": {
        "id": "2PIWu2F5Cw-W"
      }
    },
    {
      "cell_type": "code",
      "source": [
        "# Set 1 and Set 2 \n",
        "S1= {10,20,30,40,50,600}\n",
        "S2= {40,50,60,70,80,90}\n",
        "print(\"Set 1:\",S1)\n",
        "print(\"Set 2:\",S2)\n",
        "#WAP to add 55 and 66 in Set S1\n",
        "S1.update((55,66))\n",
        "print(\"SET 1 after updation is:\",S1)\n",
        "#WAP to remove 10 and 30 from Set S1.\n",
        "S1.remove(10)\n",
        "S1.remove(30)\n",
        "print(\"SET 1 after removing the elements:\",S1)\n",
        "#WAP to check whether 40 is present in S1.\n",
        "if 40 in S1:\n",
        "  print(\"it is present\")\n",
        "else:\n",
        "  print(\"it is not present\")\n",
        "#WAP to find the union between S1 and S2.\n",
        "S3=S1.union(S2)\n",
        "print(\"Union between S1 and S2:\",S3)\n",
        "#WAP to find the intersection between S1 and S2\n",
        "S3=S1.intersection(S2)\n",
        "print(\"Intersection between S1 and S2:\",S3)\n",
        "#WAP to find the S1 - S2.\n",
        "S3 = S1.difference(S2)\n",
        "print(\"Difference between S1 and S2:\",S3)\n",
        "\n"
      ],
      "metadata": {
        "colab": {
          "base_uri": "https://localhost:8080/"
        },
        "id": "J949-ZaIh9lW",
        "outputId": "a82f9971-d838-4f73-dfc2-13091848b2fd"
      },
      "execution_count": null,
      "outputs": [
        {
          "output_type": "stream",
          "name": "stdout",
          "text": [
            "Set 1: {50, 20, 40, 10, 600, 30}\n",
            "Set 2: {80, 50, 70, 40, 90, 60}\n",
            "SET 1 after updation is: {50, 66, 20, 55, 40, 10, 600, 30}\n",
            "SET 1 after removing the elements: {50, 66, 20, 55, 40, 600}\n",
            "it is present\n",
            "Union between S1 and S2: {66, 70, 40, 80, 50, 20, 55, 600, 90, 60}\n",
            "Intersection between S1 and S2: {40, 50}\n",
            "Difference between S1 and S2: {600, 66, 20, 55}\n"
          ]
        }
      ]
    },
    {
      "cell_type": "markdown",
      "source": [
        "**Question 4 : Write the following program.**\n",
        "\n",
        "**(i) WAP to print 100 random strings whose length between 6 and 8.**\n"
      ],
      "metadata": {
        "id": "-kbrtJYPYu50"
      }
    },
    {
      "cell_type": "code",
      "source": [
        "#WAP to print 100 random strings whose length between 6 and 8\n",
        "import random as r\n",
        "import string as s \n",
        "for i in range(100):\n",
        "  a=r.randint(6,8)\n",
        "  values=r.sample(s.ascii_letters,a)\n",
        "  values=\"\".join(values)\n",
        "  print(values)\n",
        "\n",
        "\n",
        "\n",
        "\n",
        "\n",
        "\n",
        "\n",
        "\n",
        "\n",
        "\n",
        "\n",
        "\n"
      ],
      "metadata": {
        "colab": {
          "base_uri": "https://localhost:8080/"
        },
        "id": "_3erHiSTli4O",
        "outputId": "785b6d29-0df9-402f-bbc4-da3159f06fb5"
      },
      "execution_count": null,
      "outputs": [
        {
          "output_type": "stream",
          "name": "stdout",
          "text": [
            "RfykgZ\n",
            "PgwvoF\n",
            "eBnDSqvu\n",
            "bKHSFtyG\n",
            "ZpByfEu\n",
            "hFkNtamp\n",
            "mDHcStG\n",
            "RJXQWC\n",
            "tGhBETf\n",
            "rSVdgIU\n",
            "lKnxQD\n",
            "dbncPptx\n",
            "rVvAmabF\n",
            "GojmZXye\n",
            "DxROmPG\n",
            "ryGvogbD\n",
            "IQbSNhDi\n",
            "FtcHSlo\n",
            "GWpiJm\n",
            "cWViwH\n",
            "PhknzUtv\n",
            "rozVjSkv\n",
            "oRHjpnvY\n",
            "nkNpgqyc\n",
            "fNvRIsA\n",
            "NvKegmC\n",
            "LtfeOEv\n",
            "LpGkzRN\n",
            "pWchOFU\n",
            "FwxAcy\n",
            "kLjwWf\n",
            "pVCihb\n",
            "DNfOIz\n",
            "lTAYPaJ\n",
            "RqhNts\n",
            "cwsmzXYj\n",
            "nRXrtEf\n",
            "nESAlJw\n",
            "wAsNHe\n",
            "mxbTMOH\n",
            "aSLiqDcH\n",
            "KCcGkB\n",
            "pCoGEFQ\n",
            "iwzdyAk\n",
            "TdUbAJRu\n",
            "mJjWlvK\n",
            "msMIOF\n",
            "IjGFEn\n",
            "WLKsOBw\n",
            "eqWGij\n",
            "KxHPtD\n",
            "jNoectAE\n",
            "fWYhcvy\n",
            "FasyRD\n",
            "lDLuJPBb\n",
            "XJlNIH\n",
            "DQuSBkb\n",
            "mcDsgG\n",
            "pexFnf\n",
            "xJcfWQb\n",
            "yIbpUHo\n",
            "KOoaBQ\n",
            "JFamkM\n",
            "GWLXaz\n",
            "uZLmcTEN\n",
            "OcgChFQH\n",
            "WAZbuPpC\n",
            "wTeySiR\n",
            "rnGzxRP\n",
            "DiTaWMl\n",
            "TMYZyf\n",
            "VyLecZl\n",
            "nGMIZVd\n",
            "HbqOMKT\n",
            "RryTWdg\n",
            "SmzMfb\n",
            "pDZWdQ\n",
            "XMgNOElQ\n",
            "OYukoNQ\n",
            "LmJIOYW\n",
            "caQuUp\n",
            "UYigWO\n",
            "PFVvJoB\n",
            "hMgJSeY\n",
            "AhQCVW\n",
            "zVEGix\n",
            "MWGokq\n",
            "yMYExAD\n",
            "hPzqHDsZ\n",
            "hBUsTMyc\n",
            "eRZFWt\n",
            "coFWRq\n",
            "qHkKcba\n",
            "cynvxb\n",
            "iJGWCHEK\n",
            "JIHDmkW\n",
            "mhYbMc\n",
            "pSchKJM\n",
            "kigZYN\n",
            "XFILqSQm\n"
          ]
        }
      ]
    },
    {
      "cell_type": "markdown",
      "source": [
        "**(ii) WAP to print all prime numbers between 600 and 800.**\n"
      ],
      "metadata": {
        "id": "JIKLpdOUY6xF"
      }
    },
    {
      "cell_type": "code",
      "source": [
        "#WAP to print all prime numbers between 600 and 800\n",
        "for num in range(600, 800):\n",
        "   # all prime numbers are greater than 1\n",
        "   if num > 1:\n",
        "       for i in range(2, num):\n",
        "           if (num % i) == 0:\n",
        "               break\n",
        "       else:\n",
        "           print(num)\n",
        "\n"
      ],
      "metadata": {
        "colab": {
          "base_uri": "https://localhost:8080/"
        },
        "id": "PMLRqJH5ofv9",
        "outputId": "c550e5a4-ef00-4160-da17-09e92e489e77"
      },
      "execution_count": null,
      "outputs": [
        {
          "output_type": "stream",
          "name": "stdout",
          "text": [
            "601\n",
            "607\n",
            "613\n",
            "617\n",
            "619\n",
            "631\n",
            "641\n",
            "643\n",
            "647\n",
            "653\n",
            "659\n",
            "661\n",
            "673\n",
            "677\n",
            "683\n",
            "691\n",
            "701\n",
            "709\n",
            "719\n",
            "727\n",
            "733\n",
            "739\n",
            "743\n",
            "751\n",
            "757\n",
            "761\n",
            "769\n",
            "773\n",
            "787\n",
            "797\n"
          ]
        }
      ]
    },
    {
      "cell_type": "markdown",
      "source": [
        "**(iii) WAP to print all numbers between 100 and 1000 that are divisible by 7 and 9**"
      ],
      "metadata": {
        "id": "qTi0pe1AZBmP"
      }
    },
    {
      "cell_type": "code",
      "source": [
        "#WAP to print all numbers between 100 and 1000 that are divisible by 7 and 9\n",
        "nl=[]\n",
        "for x in range(100,1001):\n",
        "   if (x%7==0) and (x%9==0):\n",
        "        nl.append(str(x))\n",
        "print (','.join(nl))"
      ],
      "metadata": {
        "colab": {
          "base_uri": "https://localhost:8080/"
        },
        "id": "wA3gZcrsrcm2",
        "outputId": "4c79b4e4-32e7-4c41-dae5-b96080d77ccb"
      },
      "execution_count": null,
      "outputs": [
        {
          "output_type": "stream",
          "name": "stdout",
          "text": [
            "126,189,252,315,378,441,504,567,630,693,756,819,882,945\n"
          ]
        }
      ]
    },
    {
      "cell_type": "markdown",
      "source": [
        "**Question 5 : WAP to create two lists of 10 random numbers between 10 and 30; Find-**\n",
        "\n",
        "**(i) Common numbers in the two lists**\n",
        "\n",
        "**(ii) Unique numbers in both the list**\n",
        "\n",
        "**(iii) Minimum in both the list**\n",
        "\n",
        "**(iv) Maximum in both the list**\n",
        "\n",
        "**(v) Sum of both the lists**\n"
      ],
      "metadata": {
        "id": "29TmlvFWZHaE"
      }
    },
    {
      "cell_type": "code",
      "source": [
        "# WAP to create two lists of 10 random numbers between 10 and 30\n",
        "import random as r\n",
        "l1=[]\n",
        "l2=[]\n",
        "for x in range(10):\n",
        "  l1.append(r.randint(10,30))\n",
        "  l2.append(r.randint(10,30))\n",
        "print(l1)\n",
        "print(l2)\n",
        "#Common numbers in the two lists\n",
        "c = set(l1).intersection(l2)\n",
        "print(c)  \n",
        "#unique elements in the two lists\n",
        "\n",
        "#Minimum in both the list\n",
        "print(\"minimum value:\",min(l1))\n",
        "print(\"minimum value:\",min(l2))\n",
        "#Maximum number in both the list\n",
        "print(\"maximum value:\",max(l1))\n",
        "print(\"maximum value:\",max(l2))\n",
        "#Sum of both the lists\n",
        "sum_list=[]\n",
        "for i in range(0, len(l1)):\n",
        "    sum_list.append(l1[i] + l2[i])\n",
        "print (\"After sum list is : \" ,sum_list)\n",
        "\n",
        "\n",
        "\n",
        "\n",
        "\n"
      ],
      "metadata": {
        "colab": {
          "base_uri": "https://localhost:8080/"
        },
        "id": "03IfxNmVrsFT",
        "outputId": "a0081830-d592-435d-9d00-dc919fbc81ff"
      },
      "execution_count": null,
      "outputs": [
        {
          "output_type": "stream",
          "name": "stdout",
          "text": [
            "[26, 25, 29, 18, 10, 18, 15, 20, 14, 24]\n",
            "[27, 13, 14, 13, 16, 25, 14, 15, 16, 16]\n",
            "{25, 14, 15}\n",
            "minimum value: 10\n",
            "minimum value: 13\n",
            "maximum value: 29\n",
            "maximum value: 27\n",
            "After sum list is :  [53, 38, 43, 31, 26, 43, 29, 35, 30, 40]\n"
          ]
        }
      ]
    },
    {
      "cell_type": "markdown",
      "source": [
        "**Question 6 : WAP to create a list of 100 random numbers between 100 and 900.**\n",
        "\n",
        "**Count and print the:**\n",
        "\n",
        "\n",
        "**(i) All odd numbers**\n",
        "\n",
        "**(ii) All even numbers**\n",
        "\n",
        "**(iii) All prime numbers**"
      ],
      "metadata": {
        "id": "xk7uQQW8ZVMg"
      }
    },
    {
      "cell_type": "code",
      "source": [
        "# WAP to create a list of 100 random numbers between 100 and 900 \n",
        "import random as r\n",
        "l1=[]\n",
        "for x in range(100):\n",
        "    l1.append(r.randint(100, 900))\n",
        "print(\"original list:\",l1)  \n",
        "#all odd numbers \n",
        "oddlist=[]\n",
        "for n in l1:\n",
        "  if n%2 !=0 :\n",
        "    oddlist.append(n)\n",
        "print(\"list of odd numbers:\",oddlist)\n",
        "# all even numbers \n",
        "evenlist=[]\n",
        "for i in l1:\n",
        "  if i%2==0:\n",
        "    evenlist.append(i)\n",
        "print(\"list of even numbers:\",evenlist)\n",
        "#all prime numbers\n",
        "prime=[]\n",
        "for j in l1:\n",
        "  c=0\n",
        "  for k in range(1,j):\n",
        "    if j%k==0:\n",
        "      c+=1\n",
        "  if c==1:\n",
        "    prime.append(j)\n",
        "print(\"list of prime numbers:\",prime)\n",
        "\n",
        "   \n",
        "\n"
      ],
      "metadata": {
        "colab": {
          "base_uri": "https://localhost:8080/"
        },
        "id": "GpjsyTtUy6PQ",
        "outputId": "0c411260-00dd-48f0-d8f3-fe726268b2dd"
      },
      "execution_count": null,
      "outputs": [
        {
          "output_type": "stream",
          "name": "stdout",
          "text": [
            "original list: [391, 401, 268, 348, 820, 639, 222, 509, 664, 755, 216, 642, 792, 207, 374, 296, 271, 877, 325, 148, 428, 746, 180, 306, 553, 236, 345, 567, 596, 726, 851, 174, 120, 763, 807, 557, 117, 661, 288, 452, 133, 376, 824, 852, 474, 447, 558, 566, 497, 548, 753, 815, 398, 165, 543, 179, 371, 198, 339, 306, 885, 283, 720, 604, 126, 503, 713, 539, 496, 605, 771, 562, 364, 564, 352, 788, 172, 824, 724, 153, 213, 221, 494, 415, 457, 303, 844, 721, 627, 715, 104, 280, 224, 858, 535, 288, 176, 393, 537, 763]\n",
            "list of odd numbers: [391, 401, 639, 509, 755, 207, 271, 877, 325, 553, 345, 567, 851, 763, 807, 557, 117, 661, 133, 447, 497, 753, 815, 165, 543, 179, 371, 339, 885, 283, 503, 713, 539, 605, 771, 153, 213, 221, 415, 457, 303, 721, 627, 715, 535, 393, 537, 763]\n",
            "list of even numbers: [268, 348, 820, 222, 664, 216, 642, 792, 374, 296, 148, 428, 746, 180, 306, 236, 596, 726, 174, 120, 288, 452, 376, 824, 852, 474, 558, 566, 548, 398, 198, 306, 720, 604, 126, 496, 562, 364, 564, 352, 788, 172, 824, 724, 494, 844, 104, 280, 224, 858, 288, 176]\n",
            "list of prime numbers: [401, 509, 271, 877, 557, 661, 179, 283, 503, 457]\n"
          ]
        }
      ]
    },
    {
      "cell_type": "markdown",
      "source": [
        "**Question 7 : D is a dictionary defined as D={1:\"One\",2:\"Two\",3:\"Three\",4:\"Four\", 5:\"Five\"}.**\n",
        "\n",
        "**WAP to read all the keys and values from dictionary and write to the file in the given below format.**\n",
        "\n",
        "**Key1, Value1**\n",
        "\n",
        "**Key2, Value2**\n",
        "\n",
        "**Key3, Value3**"
      ],
      "metadata": {
        "id": "XGjuQbdQZggc"
      }
    },
    {
      "cell_type": "code",
      "source": [
        "#dictionary \n",
        "fp=open('xyz.txt','w')\n",
        "D ={1:\"One\",2:\"Two\",3:\"Three\",4:\"Four\", 5:\"Five\"}\n",
        "for key,value in D.items() :\n",
        "  fp.write('%s, %s'%(key,value)+\"\\n\")\n",
        "fp.close()\n",
        "\n"
      ],
      "metadata": {
        "id": "AInmcaN29Pf4"
      },
      "execution_count": null,
      "outputs": []
    },
    {
      "cell_type": "markdown",
      "source": [
        "**Question 8 : L is a list defined as L={\"One\",\"Two\",\"Three\",\"Four\",\"Five\"}.**\n",
        "\n",
        "**WAP to count the length of reach element from a list and write to the file in the given below format:**\n",
        "\n",
        "**One, 3**\n",
        "\n",
        "**Two, 3**\n",
        "\n",
        "**Four, 4**"
      ],
      "metadata": {
        "id": "BZTtNFtkZ1UQ"
      }
    },
    {
      "cell_type": "code",
      "source": [
        "# set words count and store it in the file\n",
        "L={\"One\",\"Two\",\"Three\",\"Four\",\"Five\"}\n",
        "\n"
      ],
      "metadata": {
        "id": "XkhU0MkgaN7s"
      },
      "execution_count": null,
      "outputs": []
    },
    {
      "cell_type": "markdown",
      "source": [
        "**Question 9 : Write to the file 100 random strings whose length  between 10 and 15.**"
      ],
      "metadata": {
        "id": "EUVrD3YCalx2"
      }
    },
    {
      "cell_type": "code",
      "source": [
        "import random as r\n",
        "import string as s \n",
        "fp=open('abc.txt','w')\n",
        "for i in range(100):\n",
        "  a=r.randint(10,15)\n",
        "  values=r.sample(s.ascii_letters,a)\n",
        "  values=\"\".join(values)\n",
        "  fp.write(values)"
      ],
      "metadata": {
        "id": "DMnfzLB3a-Hf"
      },
      "execution_count": null,
      "outputs": []
    },
    {
      "cell_type": "markdown",
      "source": [
        "**Question 11 : WAP to calculate the time taken by a program.**"
      ],
      "metadata": {
        "id": "aqQZob_SdVNy"
      }
    },
    {
      "cell_type": "code",
      "source": [
        "# WAP to calculate the time taken by a program\n",
        "import time\n",
        "begin = time.time()\n",
        "for i in range(4):\n",
        "  print(\"hello\")\n",
        "time.sleep(1)\n",
        "end = time.time()\n",
        "print(f\"Total runtime of the program is {end - begin}\")"
      ],
      "metadata": {
        "colab": {
          "base_uri": "https://localhost:8080/"
        },
        "id": "mJRpvrbNdaEx",
        "outputId": "6d1f12a3-cec1-4f93-db38-5f5892814eda"
      },
      "execution_count": null,
      "outputs": [
        {
          "output_type": "stream",
          "name": "stdout",
          "text": [
            "hello\n",
            "hello\n",
            "hello\n",
            "hello\n",
            "Total runtime of the program is 1.0038096904754639\n"
          ]
        }
      ]
    },
    {
      "cell_type": "markdown",
      "source": [
        "**Question 13 : WAP to create a dictionary of student marks in five subjects and you have to find the student having maximum and minimum average marks**"
      ],
      "metadata": {
        "id": "Ah9UFQl7djDH"
      }
    },
    {
      "cell_type": "code",
      "source": [
        "# WAP to create a dictionary of student marks in five subjects "
      ],
      "metadata": {
        "id": "PxfPdTLUdqWe"
      },
      "execution_count": null,
      "outputs": []
    },
    {
      "cell_type": "code",
      "source": [
        "marks_dict = {}\n",
        "for i in range(5):\n",
        "    subject = input(\"Enter the subject: \")\n",
        "    marks = input(\"Enter the marks: \")\n",
        "    marks_dict[subject] = marks\n",
        "print(marks_dict)\n"
      ],
      "metadata": {
        "id": "31vweiSbgcun"
      },
      "execution_count": null,
      "outputs": []
    }
  ]
}